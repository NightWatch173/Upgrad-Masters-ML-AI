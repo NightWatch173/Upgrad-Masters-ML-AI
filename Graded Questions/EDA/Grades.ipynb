{
 "cells": [
  {
   "cell_type": "code",
   "execution_count": 1,
   "metadata": {},
   "outputs": [],
   "source": [
    "import pandas as pd\n",
    "import numpy as np"
   ]
  },
  {
   "cell_type": "code",
   "execution_count": 2,
   "metadata": {},
   "outputs": [
    {
     "data": {
      "text/html": [
       "<div>\n",
       "<style scoped>\n",
       "    .dataframe tbody tr th:only-of-type {\n",
       "        vertical-align: middle;\n",
       "    }\n",
       "\n",
       "    .dataframe tbody tr th {\n",
       "        vertical-align: top;\n",
       "    }\n",
       "\n",
       "    .dataframe thead th {\n",
       "        text-align: right;\n",
       "    }\n",
       "</style>\n",
       "<table border=\"1\" class=\"dataframe\">\n",
       "  <thead>\n",
       "    <tr style=\"text-align: right;\">\n",
       "      <th></th>\n",
       "      <th>submission</th>\n",
       "      <th>submit_time</th>\n",
       "    </tr>\n",
       "  </thead>\n",
       "  <tbody>\n",
       "    <tr>\n",
       "      <th>0</th>\n",
       "      <td>https://ckd.upgrad.com/UpGrad/73ba5189-94fd-44...</td>\n",
       "      <td>01/03/17-20:28:52</td>\n",
       "    </tr>\n",
       "    <tr>\n",
       "      <th>1</th>\n",
       "      <td>https://ckd.upgrad.com/UpGrad/185242ff-7508-4c...</td>\n",
       "      <td>01/03/17-20:18:21</td>\n",
       "    </tr>\n",
       "    <tr>\n",
       "      <th>2</th>\n",
       "      <td>https://ckd.upgrad.com/UpGrad/a353d129-c100-43...</td>\n",
       "      <td>01/03/17-22:37:08</td>\n",
       "    </tr>\n",
       "    <tr>\n",
       "      <th>3</th>\n",
       "      <td>https://ckd.upgrad.com/UpGrad/002fc912-faa1-49...</td>\n",
       "      <td>01/02/17-21:43:19</td>\n",
       "    </tr>\n",
       "    <tr>\n",
       "      <th>4</th>\n",
       "      <td>https://ckd.upgrad.com/UpGrad/25cbc4a4-6d49-4f...</td>\n",
       "      <td>01/03/17-15:27:49</td>\n",
       "    </tr>\n",
       "  </tbody>\n",
       "</table>\n",
       "</div>"
      ],
      "text/plain": [
       "                                          submission        submit_time\n",
       "0  https://ckd.upgrad.com/UpGrad/73ba5189-94fd-44...  01/03/17-20:28:52\n",
       "1  https://ckd.upgrad.com/UpGrad/185242ff-7508-4c...  01/03/17-20:18:21\n",
       "2  https://ckd.upgrad.com/UpGrad/a353d129-c100-43...  01/03/17-22:37:08\n",
       "3  https://ckd.upgrad.com/UpGrad/002fc912-faa1-49...  01/02/17-21:43:19\n",
       "4  https://ckd.upgrad.com/UpGrad/25cbc4a4-6d49-4f...  01/03/17-15:27:49"
      ]
     },
     "execution_count": 2,
     "metadata": {},
     "output_type": "execute_result"
    }
   ],
   "source": [
    "df = pd.read_csv('grades.csv')\n",
    "df.head()"
   ]
  },
  {
   "cell_type": "code",
   "execution_count": 3,
   "metadata": {},
   "outputs": [
    {
     "data": {
      "text/plain": [
       "'https://ckd.upgrad.com/UpGrad/73ba5189-94fd-44aa-88d3-6b36aaa69b02/DDA1610095.zip'"
      ]
     },
     "execution_count": 3,
     "metadata": {},
     "output_type": "execute_result"
    }
   ],
   "source": [
    "df.submission[0]"
   ]
  },
  {
   "cell_type": "code",
   "execution_count": 4,
   "metadata": {},
   "outputs": [],
   "source": [
    "df['file_format'] = df['submission'].apply(lambda x: str(x).split('.')[-1])"
   ]
  },
  {
   "cell_type": "code",
   "execution_count": 7,
   "metadata": {},
   "outputs": [
    {
     "data": {
      "text/plain": [
       "zip    189\n",
       "R        7\n",
       "7z       2\n",
       "Name: file_format, dtype: int64"
      ]
     },
     "execution_count": 7,
     "metadata": {},
     "output_type": "execute_result"
    }
   ],
   "source": [
    "df['file_format'].value_counts()"
   ]
  },
  {
   "cell_type": "code",
   "execution_count": 8,
   "metadata": {},
   "outputs": [
    {
     "data": {
      "text/plain": [
       "0.9545454545454546"
      ]
     },
     "execution_count": 8,
     "metadata": {},
     "output_type": "execute_result"
    }
   ],
   "source": [
    "189/len(df['file_format'])"
   ]
  },
  {
   "cell_type": "code",
   "execution_count": 41,
   "metadata": {},
   "outputs": [],
   "source": [
    "def get_deadline(x):\n",
    "    x = pd.to_datetime(x)\n",
    "    if x <= pd.to_datetime('01/03/2017 11:59:59 PM'):\n",
    "        return 'within_1st_deadline'\n",
    "    if (x > pd.to_datetime('01/03/2017 11:59:59 PM')) & (x <= pd.to_datetime('01/09/2017 11:59:59 PM')):\n",
    "        return 'within_2nd_deadline'\n",
    "    else:\n",
    "        return 'fail'"
   ]
  },
  {
   "cell_type": "code",
   "execution_count": 42,
   "metadata": {},
   "outputs": [],
   "source": [
    "df['deadline'] = pd.to_datetime(df['submit_time']).apply(get_deadline)"
   ]
  },
  {
   "cell_type": "code",
   "execution_count": 43,
   "metadata": {},
   "outputs": [
    {
     "data": {
      "text/html": [
       "<div>\n",
       "<style scoped>\n",
       "    .dataframe tbody tr th:only-of-type {\n",
       "        vertical-align: middle;\n",
       "    }\n",
       "\n",
       "    .dataframe tbody tr th {\n",
       "        vertical-align: top;\n",
       "    }\n",
       "\n",
       "    .dataframe thead th {\n",
       "        text-align: right;\n",
       "    }\n",
       "</style>\n",
       "<table border=\"1\" class=\"dataframe\">\n",
       "  <thead>\n",
       "    <tr style=\"text-align: right;\">\n",
       "      <th></th>\n",
       "      <th>submission</th>\n",
       "      <th>submit_time</th>\n",
       "      <th>file_format</th>\n",
       "      <th>deadline</th>\n",
       "    </tr>\n",
       "  </thead>\n",
       "  <tbody>\n",
       "    <tr>\n",
       "      <th>0</th>\n",
       "      <td>https://ckd.upgrad.com/UpGrad/73ba5189-94fd-44...</td>\n",
       "      <td>01/03/17-20:28:52</td>\n",
       "      <td>zip</td>\n",
       "      <td>within_1st_deadline</td>\n",
       "    </tr>\n",
       "    <tr>\n",
       "      <th>1</th>\n",
       "      <td>https://ckd.upgrad.com/UpGrad/185242ff-7508-4c...</td>\n",
       "      <td>01/03/17-20:18:21</td>\n",
       "      <td>zip</td>\n",
       "      <td>within_1st_deadline</td>\n",
       "    </tr>\n",
       "    <tr>\n",
       "      <th>2</th>\n",
       "      <td>https://ckd.upgrad.com/UpGrad/a353d129-c100-43...</td>\n",
       "      <td>01/03/17-22:37:08</td>\n",
       "      <td>zip</td>\n",
       "      <td>within_1st_deadline</td>\n",
       "    </tr>\n",
       "    <tr>\n",
       "      <th>3</th>\n",
       "      <td>https://ckd.upgrad.com/UpGrad/002fc912-faa1-49...</td>\n",
       "      <td>01/02/17-21:43:19</td>\n",
       "      <td>zip</td>\n",
       "      <td>within_1st_deadline</td>\n",
       "    </tr>\n",
       "    <tr>\n",
       "      <th>4</th>\n",
       "      <td>https://ckd.upgrad.com/UpGrad/25cbc4a4-6d49-4f...</td>\n",
       "      <td>01/03/17-15:27:49</td>\n",
       "      <td>zip</td>\n",
       "      <td>within_1st_deadline</td>\n",
       "    </tr>\n",
       "  </tbody>\n",
       "</table>\n",
       "</div>"
      ],
      "text/plain": [
       "                                          submission        submit_time  \\\n",
       "0  https://ckd.upgrad.com/UpGrad/73ba5189-94fd-44...  01/03/17-20:28:52   \n",
       "1  https://ckd.upgrad.com/UpGrad/185242ff-7508-4c...  01/03/17-20:18:21   \n",
       "2  https://ckd.upgrad.com/UpGrad/a353d129-c100-43...  01/03/17-22:37:08   \n",
       "3  https://ckd.upgrad.com/UpGrad/002fc912-faa1-49...  01/02/17-21:43:19   \n",
       "4  https://ckd.upgrad.com/UpGrad/25cbc4a4-6d49-4f...  01/03/17-15:27:49   \n",
       "\n",
       "  file_format             deadline  \n",
       "0         zip  within_1st_deadline  \n",
       "1         zip  within_1st_deadline  \n",
       "2         zip  within_1st_deadline  \n",
       "3         zip  within_1st_deadline  \n",
       "4         zip  within_1st_deadline  "
      ]
     },
     "execution_count": 43,
     "metadata": {},
     "output_type": "execute_result"
    }
   ],
   "source": [
    "df.head()"
   ]
  },
  {
   "cell_type": "code",
   "execution_count": 44,
   "metadata": {},
   "outputs": [
    {
     "data": {
      "text/plain": [
       "within_1st_deadline    154\n",
       "within_2nd_deadline     39\n",
       "fail                     5\n",
       "Name: deadline, dtype: int64"
      ]
     },
     "execution_count": 44,
     "metadata": {},
     "output_type": "execute_result"
    }
   ],
   "source": [
    "df['deadline'].value_counts()"
   ]
  },
  {
   "cell_type": "code",
   "execution_count": 45,
   "metadata": {},
   "outputs": [],
   "source": [
    "df['submit_date'] = df['submit_time'].apply(lambda x: str(x)[:8])"
   ]
  },
  {
   "cell_type": "code",
   "execution_count": 46,
   "metadata": {},
   "outputs": [
    {
     "data": {
      "text/plain": [
       "01/03/17    120\n",
       "01/09/17     21\n",
       "01/02/17     14\n",
       "01/04/17     12\n",
       "12/30/16      6\n",
       "01/01/17      6\n",
       "01/08/17      3\n",
       "01/10/17      3\n",
       "12/28/16      2\n",
       "01/07/17      2\n",
       "12/29/16      2\n",
       "02/03/17      1\n",
       "01/17/17      1\n",
       "12/21/16      1\n",
       "11/19/16      1\n",
       "12/19/16      1\n",
       "01/06/17      1\n",
       "12/31/16      1\n",
       "Name: submit_date, dtype: int64"
      ]
     },
     "execution_count": 46,
     "metadata": {},
     "output_type": "execute_result"
    }
   ],
   "source": [
    "df['submit_date'].value_counts()"
   ]
  },
  {
   "cell_type": "code",
   "execution_count": 53,
   "metadata": {},
   "outputs": [],
   "source": [
    "df['submit_hour'] = df['submit_time'].apply(lambda x: str(x)[9:11])"
   ]
  },
  {
   "cell_type": "code",
   "execution_count": 54,
   "metadata": {},
   "outputs": [
    {
     "data": {
      "text/plain": [
       "23    66\n",
       "21    27\n",
       "22    24\n",
       "20    16\n",
       "00    10\n",
       "01     8\n",
       "13     6\n",
       "14     6\n",
       "18     6\n",
       "17     4\n",
       "15     4\n",
       "12     3\n",
       "03     3\n",
       "10     3\n",
       "04     2\n",
       "19     2\n",
       "16     2\n",
       "02     2\n",
       "09     1\n",
       "08     1\n",
       "06     1\n",
       "11     1\n",
       "Name: submit_hour, dtype: int64"
      ]
     },
     "execution_count": 54,
     "metadata": {},
     "output_type": "execute_result"
    }
   ],
   "source": [
    "df['submit_hour'].value_counts()"
   ]
  },
  {
   "cell_type": "code",
   "execution_count": 58,
   "metadata": {},
   "outputs": [
    {
     "data": {
      "text/plain": [
       "<matplotlib.axes._subplots.AxesSubplot at 0x7fce10516610>"
      ]
     },
     "execution_count": 58,
     "metadata": {},
     "output_type": "execute_result"
    },
    {
     "data": {
      "image/png": "[encoded data removed]",
      "text/plain": [
       "<Figure size 432x288 with 1 Axes>"
      ]
     },
     "metadata": {
      "needs_background": "light"
     },
     "output_type": "display_data"
    }
   ],
   "source": [
    "df['submit_hour'].value_counts().sort_index().plot.bar()"
   ]
  },
  {
   "cell_type": "code",
   "execution_count": null,
   "metadata": {},
   "outputs": [],
   "source": []
  }
 ],
 "metadata": {
  "kernelspec": {
   "display_name": "Python 3",
   "language": "python",
   "name": "python3"
  },
  "language_info": {
   "codemirror_mode": {
    "name": "ipython",
    "version": 3
   },
   "file_extension": ".py",
   "mimetype": "text/x-python",
   "name": "python",
   "nbconvert_exporter": "python",
   "pygments_lexer": "ipython3",
   "version": "3.7.4"
  }
 },
 "nbformat": 4,
 "nbformat_minor": 4
}
