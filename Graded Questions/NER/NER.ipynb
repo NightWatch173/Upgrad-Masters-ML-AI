{
 "cells": [
  {
   "cell_type": "code",
   "execution_count": 22,
   "id": "313700c2-b9b6-4d2d-9472-9a3a4cd8033d",
   "metadata": {},
   "outputs": [],
   "source": [
    "import pandas as pd\n",
    "import spacy\n",
    "import numpy as np"
   ]
  },
  {
   "cell_type": "code",
   "execution_count": 2,
   "id": "953d6cc4-d1bd-4d53-a8b8-c08ed20e36eb",
   "metadata": {},
   "outputs": [],
   "source": [
    "nlp = spacy.load('en_core_web_sm')"
   ]
  },
  {
   "cell_type": "code",
   "execution_count": 4,
   "id": "bd7ffdfa-f17a-4e63-9b23-d580c41d9804",
   "metadata": {},
   "outputs": [],
   "source": [
    "with open('data.txt') as f:\n",
    "    data = f.readlines()"
   ]
  },
  {
   "cell_type": "code",
   "execution_count": 15,
   "id": "cd643483-ad28-443f-8572-035bbedf7eb6",
   "metadata": {},
   "outputs": [],
   "source": [
    "ents = []"
   ]
  },
  {
   "cell_type": "code",
   "execution_count": 16,
   "id": "a8e648c4-691b-4197-97b4-35a86a035378",
   "metadata": {},
   "outputs": [],
   "source": [
    "for d in data:\n",
    "    doc = nlp(d)\n",
    "    for ent in doc.ents:\n",
    "        ents.append((ent.text, ent.label_))"
   ]
  },
  {
   "cell_type": "code",
   "execution_count": 19,
   "id": "62e52ee1-0fe5-43de-8005-a72761c89ce5",
   "metadata": {},
   "outputs": [
    {
     "data": {
      "text/plain": [
       "[('100', 'MONEY'),\n",
       " ('a year ago', 'DATE'),\n",
       " ('200', 'MONEY'),\n",
       " ('50', 'MONEY'),\n",
       " ('10', 'MONEY')]"
      ]
     },
     "execution_count": 19,
     "metadata": {},
     "output_type": "execute_result"
    }
   ],
   "source": [
    "ents[:5]"
   ]
  },
  {
   "cell_type": "code",
   "execution_count": 23,
   "id": "c27c7f3e-beba-4b1e-8637-34f822192896",
   "metadata": {},
   "outputs": [
    {
     "data": {
      "text/plain": [
       "93.25806451612904"
      ]
     },
     "execution_count": 23,
     "metadata": {},
     "output_type": "execute_result"
    }
   ],
   "source": [
    "np.mean([int(x[0]) for x in ents if x[1] == 'MONEY'])"
   ]
  },
  {
   "cell_type": "code",
   "execution_count": null,
   "id": "3941b579-e67e-4497-b582-80eb0ac3ca14",
   "metadata": {},
   "outputs": [],
   "source": []
  }
 ],
 "metadata": {
  "kernelspec": {
   "display_name": "Python 3 (ipykernel)",
   "language": "python",
   "name": "python3"
  },
  "language_info": {
   "codemirror_mode": {
    "name": "ipython",
    "version": 3
   },
   "file_extension": ".py",
   "mimetype": "text/x-python",
   "name": "python",
   "nbconvert_exporter": "python",
   "pygments_lexer": "ipython3",
   "version": "3.8.10"
  }
 },
 "nbformat": 4,
 "nbformat_minor": 5
}
