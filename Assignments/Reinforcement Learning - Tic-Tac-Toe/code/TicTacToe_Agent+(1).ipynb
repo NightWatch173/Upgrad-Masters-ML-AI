{
 "cells": [
  {
   "cell_type": "markdown",
   "metadata": {
    "colab_type": "text",
    "id": "rznSDgbvGggG"
   },
   "source": [
    "## Tic-Tac-Toe Agent\n",
    "​\n",
    "In this notebook, you will learn to build an RL agent (using Q-learning) that learns to play Numerical Tic-Tac-Toe with odd numbers. The environment is playing randomly with the agent, i.e. its strategy is to put an even number randomly in an empty cell. The following is the layout of the notebook:\n",
    "\n",
    "        - Defining epsilon-greedy strategy\n",
    "        - Tracking state-action pairs for convergence\n",
    "        - Define hyperparameters for the Q-learning algorithm\n",
    "        - Generating episode and applying Q-update equation\n",
    "        - Checking convergence in Q-values"
   ]
  },
  {
   "cell_type": "markdown",
   "metadata": {
    "colab_type": "text",
    "id": "8eDb8PxBGggH"
   },
   "source": [
    "#### Importing libraries\n",
    "Write the code to import Tic-Tac-Toe class from the environment file"
   ]
  },
  {
   "cell_type": "code",
   "execution_count": 1,
   "metadata": {},
   "outputs": [],
   "source": [
    "from IPython.core.debugger import set_trace"
   ]
  },
  {
   "cell_type": "code",
   "execution_count": 2,
   "metadata": {
    "colab": {},
    "colab_type": "code",
    "id": "6SFNYceFGggJ"
   },
   "outputs": [],
   "source": [
    "# from <TC_Env> import <TicTacToe> - import your class from environment file\n",
    "import collections\n",
    "import numpy as np\n",
    "import random\n",
    "import pickle\n",
    "import time\n",
    "from tqdm.auto import tqdm\n",
    "from matplotlib import pyplot as plt"
   ]
  },
  {
   "cell_type": "code",
   "execution_count": 3,
   "metadata": {},
   "outputs": [],
   "source": [
    "from TCGame_Env1 import TicTacToe\n",
    "env = TicTacToe()"
   ]
  },
  {
   "cell_type": "code",
   "execution_count": 4,
   "metadata": {},
   "outputs": [
    {
     "data": {
      "text/plain": [
       "[nan, nan, nan, nan, nan, nan, nan, nan, nan]"
      ]
     },
     "execution_count": 4,
     "metadata": {},
     "output_type": "execute_result"
    }
   ],
   "source": [
    "env.state"
   ]
  },
  {
   "cell_type": "code",
   "execution_count": 5,
   "metadata": {},
   "outputs": [],
   "source": [
    "# agent_actions, env_actions = env.action_space([np.nan, np.nan, np.nan, np.nan, np.nan, np.nan, np.nan, np.nan, np.nan])\n",
    "# agent_actions, env_actions"
   ]
  },
  {
   "cell_type": "code",
   "execution_count": 6,
   "metadata": {
    "colab": {},
    "colab_type": "code",
    "id": "wYLQyopEG8nz"
   },
   "outputs": [],
   "source": [
    "# Function to convert state array into a string to store it as keys in the dictionary\n",
    "# states in Q-dictionary will be of form: x-4-5-3-8-x-x-x-x\n",
    "#   x | 4 | 5\n",
    "#   ----------\n",
    "#   3 | 8 | x\n",
    "#   ----------\n",
    "#   x | x | x\n",
    "\n",
    "def Q_state(state):\n",
    "    return ('-'.join(str(e) for e in state)).replace('nan','x')"
   ]
  },
  {
   "cell_type": "code",
   "execution_count": 7,
   "metadata": {
    "colab": {},
    "colab_type": "code",
    "id": "ZebMOoiVHBBr"
   },
   "outputs": [],
   "source": [
    "# Defining a function which will return valid (all possible actions) actions corresponding to a state\n",
    "# Important to avoid errors during deployment.\n",
    "\n",
    "def valid_actions(state):\n",
    "\n",
    "    valid_Actions = []\n",
    "    \n",
    "    valid_Actions = [i for i in env.action_space(state)[0]] ###### -------please call your environment as env\n",
    "    return valid_Actions"
   ]
  },
  {
   "cell_type": "code",
   "execution_count": 8,
   "metadata": {},
   "outputs": [],
   "source": [
    "# valid_actions([7, np.nan, np.nan, np.nan, np.nan, np.nan, np.nan, np.nan, 2])"
   ]
  },
  {
   "cell_type": "code",
   "execution_count": 9,
   "metadata": {
    "colab": {},
    "colab_type": "code",
    "id": "IRciPUkYHDWf"
   },
   "outputs": [],
   "source": [
    "# Defining a function which will add new Q-values to the Q-dictionary. \n",
    "def add_to_dict(state):\n",
    "    state1 = Q_state(state)\n",
    "    \n",
    "    valid_act = valid_actions(state)\n",
    "    if state1 not in Q_dict.keys(): # or len(Q_dict[state1].keys())==0:\n",
    "        for action in valid_act:\n",
    "            Q_dict[state1][action]=0"
   ]
  },
  {
   "cell_type": "markdown",
   "metadata": {
    "colab_type": "text",
    "id": "fNNi_EfHGggM"
   },
   "source": [
    "#### Epsilon-greedy strategy - Write your code here\n",
    "\n",
    "(you can build your epsilon-decay function similar to the one given at the end of the notebook)"
   ]
  },
  {
   "cell_type": "code",
   "execution_count": 10,
   "metadata": {
    "colab": {},
    "colab_type": "code",
    "id": "m0lMfqiJGggN"
   },
   "outputs": [],
   "source": [
    "# Defining epsilon-greedy policy. You can choose any function epsilon-decay strategy\n",
    "# -epsilon value(num_episodes)\n",
    "# -genrate a random z\n",
    "# -z>e:\n",
    "#     exploitation\n",
    "#     q-values: best\n",
    "# else:\n",
    "#     exploration\n",
    "#     random action\n",
    "\n",
    "def get_random_action_agent(state):\n",
    "    agent_action_space = [x for x in env.action_space(state)[0]]\n",
    "    action = tuple(np.asarray(agent_action_space)[np.random.choice(len(agent_action_space), 1)][0])\n",
    "    return action\n",
    "\n",
    "def epsilon_greedy(state, time, min_epsilon=0.001, max_epsilon=1.0):\n",
    "    \n",
    "    epsilon = min_epsilon + (max_epsilon - min_epsilon) * np.exp(-0.000001 * time)\n",
    "        \n",
    "    z = np.random.random()\n",
    "        \n",
    "    if z > epsilon:\n",
    "        action = max(Q_dict[Q_state(state)],key=Q_dict[Q_state(state)].get)   #Exploitation: this gets the action corresponding to max q-value of current state\n",
    "    else:\n",
    "        action = get_random_action_agent(state)   #Exploration: randomly choosing an action\n",
    "    \n",
    "    return action\n"
   ]
  },
  {
   "cell_type": "code",
   "execution_count": 11,
   "metadata": {},
   "outputs": [],
   "source": [
    "# sample_state = [np.nan, np.nan, np.nan, np.nan, np.nan, np.nan, np.nan, np.nan, np.nan]\n",
    "# max(Q_dict[Q_state(sample_state)],key=Q_dict[Q_state(sample_state)].get)"
   ]
  },
  {
   "cell_type": "code",
   "execution_count": 12,
   "metadata": {},
   "outputs": [],
   "source": [
    "# env.allowed_values([np.nan, np.nan, np.nan, np.nan, np.nan, np.nan, np.nan, np.nan, np.nan])[0]"
   ]
  },
  {
   "cell_type": "code",
   "execution_count": 13,
   "metadata": {},
   "outputs": [],
   "source": [
    "# [x for x in env.action_space([np.nan, np.nan, np.nan, np.nan, np.nan, np.nan, np.nan, np.nan, np.nan])[0]]"
   ]
  },
  {
   "cell_type": "code",
   "execution_count": 14,
   "metadata": {},
   "outputs": [],
   "source": [
    "# agent_action_space = [x for x in env.action_space([np.nan, np.nan, np.nan, np.nan, np.nan, np.nan, np.nan, np.nan, np.nan])[0]]\n",
    "# tuple(np.asarray(agent_action_space)[np.random.choice(len(agent_action_space), 1)][0])"
   ]
  },
  {
   "cell_type": "markdown",
   "metadata": {
    "colab_type": "text",
    "id": "H2kyQHOMGggR"
   },
   "source": [
    "#### Tracking the state-action pairs for checking convergence - write your code here"
   ]
  },
  {
   "cell_type": "code",
   "execution_count": 15,
   "metadata": {},
   "outputs": [],
   "source": [
    "states_tracked = [\n",
    "    ('7-x-x-2-x-x-x-x-x', (1, 3)),\n",
    "    ('x-x-2-x-x-x-x-x-5', (0, 9)),\n",
    "    ('x-x-4-x-x-x-x-x-5', (4, 9)),\n",
    "    ('x-x-x-9-4-x-x-x-x', (0, 5))\n",
    "]"
   ]
  },
  {
   "cell_type": "code",
   "execution_count": 16,
   "metadata": {
    "colab": {},
    "colab_type": "code",
    "id": "qcxZ29vdGggS"
   },
   "outputs": [],
   "source": [
    "# Initialise Q_dictionary as 'Q_dict' and States_tracked as 'States_track' (for convergence)\n",
    "Q_dict = collections.defaultdict(dict)\n",
    "States_track = collections.defaultdict(dict)\n",
    "rewards_tracked = {states_tracked[0][0]: [],\n",
    "                   states_tracked[1][0]: [],\n",
    "                   states_tracked[2][0]: [],\n",
    "                   states_tracked[3][0]: []}\n",
    "episode_rewards_tracked = {}\n",
    "accumulated_rewards_tracked = {}"
   ]
  },
  {
   "cell_type": "code",
   "execution_count": 17,
   "metadata": {
    "colab": {},
    "colab_type": "code",
    "id": "vs73iv8fHOxV"
   },
   "outputs": [],
   "source": [
    "# Initialise states to be tracked\n",
    "# This function will initialise the Q-values which need to be tracked for checking convergence\n",
    "def initialise_tracking_states():\n",
    "    sample_q_values = states_tracked\n",
    "    for q_values in sample_q_values:\n",
    "        state = q_values[0]\n",
    "        action = q_values[1]\n",
    "        States_track[state][action] = []    #this is an array which will have appended values of that state-action pair for every 2000th episode   \n",
    "  \n",
    "  \n",
    "  "
   ]
  },
  {
   "cell_type": "code",
   "execution_count": 18,
   "metadata": {
    "colab": {},
    "colab_type": "code",
    "id": "dAbwJDMVHpwl"
   },
   "outputs": [],
   "source": [
    "#Defining a function to save the Q-dictionary as a pickle file\n",
    "\n",
    "def save_obj(obj, name ):\n",
    "    with open('../artifacts/' + name + '.pkl', 'wb') as f:\n",
    "        pickle.dump(obj, f, pickle.HIGHEST_PROTOCOL)"
   ]
  },
  {
   "cell_type": "code",
   "execution_count": 19,
   "metadata": {
    "colab": {},
    "colab_type": "code",
    "id": "6Pyj7nMVHsBi"
   },
   "outputs": [],
   "source": [
    "def save_tracking_states():\n",
    "    for state in States_track.keys():\n",
    "        for action in States_track[state].keys():\n",
    "            if state in Q_dict and action in Q_dict[state]:\n",
    "                States_track[state][action].append(Q_dict[state][action])"
   ]
  },
  {
   "cell_type": "code",
   "execution_count": 20,
   "metadata": {
    "colab": {},
    "colab_type": "code",
    "id": "B_8xSluUHvew"
   },
   "outputs": [],
   "source": [
    "initialise_tracking_states()"
   ]
  },
  {
   "cell_type": "code",
   "execution_count": 21,
   "metadata": {},
   "outputs": [],
   "source": [
    "# States_track"
   ]
  },
  {
   "cell_type": "markdown",
   "metadata": {
    "colab_type": "text",
    "id": "-iPt--E9GggV"
   },
   "source": [
    "#### Define hyperparameters  ---write your code here"
   ]
  },
  {
   "cell_type": "code",
   "execution_count": 22,
   "metadata": {
    "colab": {},
    "colab_type": "code",
    "id": "G0_f5czFGggW"
   },
   "outputs": [],
   "source": [
    "#Defining parameters for the experiment\n",
    "\n",
    "EPISODES = 1000000\n",
    "# STEPS = 30                 \n",
    "LR = 0.1                   #learning rate\n",
    "GAMMA = 0.91\n",
    "\n",
    "threshold = 2000       #every these many episodes, the 4 Q-values will be stored/appended (convergence graphs)\n",
    "policy_threshold = 30000    #every these many episodes, the Q-dict will be updated"
   ]
  },
  {
   "cell_type": "markdown",
   "metadata": {
    "colab_type": "text",
    "id": "Md6twJ7wGggh"
   },
   "source": [
    "### Q-update loop ---write your code here"
   ]
  },
  {
   "cell_type": "code",
   "execution_count": 23,
   "metadata": {
    "colab": {},
    "colab_type": "code",
    "id": "ldCgQuDNGggj"
   },
   "outputs": [
    {
     "data": {
      "application/vnd.jupyter.widget-view+json": {
       "model_id": "5b40e1eb4b69409bb7c037d6b7828648",
       "version_major": 2,
       "version_minor": 0
      },
      "text/plain": [
       "  0%|          | 0/1000000 [00:00<?, ?it/s]"
      ]
     },
     "metadata": {},
     "output_type": "display_data"
    },
    {
     "name": "stdout",
     "output_type": "stream",
     "text": [
      "Episode: 10000, Average Rewards: 3.0155\n",
      "Episode: 20000, Average Rewards: 2.96175\n",
      "Episode: 30000, Average Rewards: 2.9711333333333334\n",
      "Episode: 40000, Average Rewards: 2.947775\n",
      "Episode: 50000, Average Rewards: 2.95596\n",
      "Episode: 60000, Average Rewards: 2.96705\n",
      "Episode: 70000, Average Rewards: 2.9692857142857143\n",
      "Episode: 80000, Average Rewards: 2.9734625\n",
      "Episode: 90000, Average Rewards: 2.973988888888889\n",
      "Episode: 100000, Average Rewards: 2.9809\n",
      "Episode: 110000, Average Rewards: 2.9872727272727273\n",
      "Episode: 120000, Average Rewards: 2.9838\n",
      "Episode: 130000, Average Rewards: 2.9852615384615384\n",
      "Episode: 140000, Average Rewards: 2.9887214285714285\n",
      "Episode: 150000, Average Rewards: 2.993\n",
      "Episode: 160000, Average Rewards: 2.99414375\n",
      "Episode: 170000, Average Rewards: 2.9958470588235295\n",
      "Episode: 180000, Average Rewards: 3.0046222222222223\n",
      "Episode: 190000, Average Rewards: 3.004973684210526\n",
      "Episode: 200000, Average Rewards: 3.00282\n",
      "Episode: 210000, Average Rewards: 3.0074666666666667\n",
      "Episode: 220000, Average Rewards: 3.009831818181818\n",
      "Episode: 230000, Average Rewards: 3.0142478260869567\n",
      "Episode: 240000, Average Rewards: 3.0168708333333334\n",
      "Episode: 250000, Average Rewards: 3.018996\n",
      "Episode: 260000, Average Rewards: 3.0191307692307694\n",
      "Episode: 270000, Average Rewards: 3.021322222222222\n",
      "Episode: 280000, Average Rewards: 3.0204178571428573\n",
      "Episode: 290000, Average Rewards: 3.0216793103448274\n",
      "Episode: 300000, Average Rewards: 3.026936666666667\n",
      "Episode: 310000, Average Rewards: 3.0322870967741937\n",
      "Episode: 320000, Average Rewards: 3.034003125\n",
      "Episode: 330000, Average Rewards: 3.040178787878788\n",
      "Episode: 340000, Average Rewards: 3.045091176470588\n",
      "Episode: 350000, Average Rewards: 3.05032\n",
      "Episode: 360000, Average Rewards: 3.055425\n",
      "Episode: 370000, Average Rewards: 3.060410810810811\n",
      "Episode: 380000, Average Rewards: 3.062734210526316\n",
      "Episode: 390000, Average Rewards: 3.0665820512820514\n",
      "Episode: 400000, Average Rewards: 3.0728\n",
      "Episode: 410000, Average Rewards: 3.078431707317073\n",
      "Episode: 420000, Average Rewards: 3.0861\n",
      "Episode: 430000, Average Rewards: 3.0900581395348836\n",
      "Episode: 440000, Average Rewards: 3.0962727272727273\n",
      "Episode: 450000, Average Rewards: 3.100597777777778\n",
      "Episode: 460000, Average Rewards: 3.1066195652173914\n",
      "Episode: 470000, Average Rewards: 3.111125531914894\n",
      "Episode: 480000, Average Rewards: 3.1176375\n",
      "Episode: 490000, Average Rewards: 3.1231367346938774\n",
      "Episode: 500000, Average Rewards: 3.130184\n",
      "Episode: 510000, Average Rewards: 3.1360176470588237\n",
      "Episode: 520000, Average Rewards: 3.1409096153846154\n",
      "Episode: 530000, Average Rewards: 3.147452830188679\n",
      "Episode: 540000, Average Rewards: 3.1551240740740742\n",
      "Episode: 550000, Average Rewards: 3.15842\n",
      "Episode: 560000, Average Rewards: 3.1642375\n",
      "Episode: 570000, Average Rewards: 3.169278947368421\n",
      "Episode: 580000, Average Rewards: 3.1759706896551725\n",
      "Episode: 590000, Average Rewards: 3.181435593220339\n",
      "Episode: 600000, Average Rewards: 3.1864166666666667\n",
      "Episode: 610000, Average Rewards: 3.1930737704918033\n",
      "Episode: 620000, Average Rewards: 3.2000774193548387\n",
      "Episode: 630000, Average Rewards: 3.2060666666666666\n",
      "Episode: 640000, Average Rewards: 3.2129140625\n",
      "Episode: 650000, Average Rewards: 3.218733846153846\n",
      "Episode: 660000, Average Rewards: 3.225737878787879\n",
      "Episode: 670000, Average Rewards: 3.231368656716418\n",
      "Episode: 680000, Average Rewards: 3.2377308823529414\n",
      "Episode: 690000, Average Rewards: 3.245821739130435\n",
      "Episode: 700000, Average Rewards: 3.254517142857143\n",
      "Episode: 710000, Average Rewards: 3.2623535211267605\n",
      "Episode: 720000, Average Rewards: 3.2685666666666666\n",
      "Episode: 730000, Average Rewards: 3.2768986301369862\n",
      "Episode: 740000, Average Rewards: 3.2852702702702703\n",
      "Episode: 750000, Average Rewards: 3.2944986666666667\n",
      "Episode: 760000, Average Rewards: 3.3025026315789474\n",
      "Episode: 770000, Average Rewards: 3.3105415584415585\n",
      "Episode: 780000, Average Rewards: 3.319052564102564\n",
      "Episode: 790000, Average Rewards: 3.32823164556962\n",
      "Episode: 800000, Average Rewards: 3.337215\n",
      "Episode: 810000, Average Rewards: 3.3464555555555555\n",
      "Episode: 820000, Average Rewards: 3.354939024390244\n",
      "Episode: 830000, Average Rewards: 3.3645843373493975\n",
      "Episode: 840000, Average Rewards: 3.3749857142857143\n",
      "Episode: 850000, Average Rewards: 3.386521176470588\n",
      "Episode: 860000, Average Rewards: 3.397032558139535\n",
      "Episode: 870000, Average Rewards: 3.4066080459770114\n",
      "Episode: 880000, Average Rewards: 3.4162875\n",
      "Episode: 890000, Average Rewards: 3.425941573033708\n",
      "Episode: 900000, Average Rewards: 3.435268888888889\n",
      "Episode: 910000, Average Rewards: 3.4456846153846152\n",
      "Episode: 920000, Average Rewards: 3.455386956521739\n",
      "Episode: 930000, Average Rewards: 3.4657032258064517\n",
      "Episode: 940000, Average Rewards: 3.4766617021276596\n",
      "Episode: 950000, Average Rewards: 3.4878431578947366\n",
      "Episode: 960000, Average Rewards: 3.4989572916666667\n",
      "Episode: 970000, Average Rewards: 3.509739175257732\n",
      "Episode: 980000, Average Rewards: 3.5204397959183673\n",
      "Episode: 990000, Average Rewards: 3.5303585858585858\n",
      "Episode: 1000000, Average Rewards: 3.540838\n"
     ]
    }
   ],
   "source": [
    "# start_time = time.time()\n",
    "\n",
    "# for episode in range(EPISODES):\n",
    "#     ##### Start writing your code from the next line\n",
    "#     - Init state\n",
    "#     env = tictac .. \n",
    "#     while not terminal:\n",
    "#         - add_to_dict(state)\n",
    "#         - E-greedy - action\n",
    "#         reward,next_state,terminal_flag = env.step(state , action)\n",
    "        \n",
    "#         q[s][a] += LR((r +gamma*(max(q[s']))  -q[s][a] )\n",
    "#         if terminal:\n",
    "#           q[s][a] += LR(r - q[s][a])\n",
    "    \n",
    "# elapsed_time = time.time() - start_time\n",
    "# save_obj(States_track,'States_tracked')\n",
    "# save_obj(Q_dict,'Policy')\n",
    "\n",
    "\n",
    "start_time = time.time()\n",
    "accumulated_total_reward = 0\n",
    "for episode in tqdm(range(EPISODES)):\n",
    "    \n",
    "    env = TicTacToe()      #creating an instance of the class\n",
    "    #this initialises the state back to some initial value which is required for every new episode\n",
    "    #this also initialises all parameters\n",
    "    \n",
    "    initial_state = env.state #for the purpose of tracking reward\n",
    "    curr_state = env.state\n",
    "    terminal = False\n",
    "    total_reward = 0\n",
    "    \n",
    "    # initial run\n",
    "    add_to_dict(curr_state)\n",
    "    curr_action = get_random_action_agent(curr_state)\n",
    "    next_state, _, _ = env.step(curr_state, curr_action)\n",
    "    add_to_dict(next_state)\n",
    "    curr_state = next_state\n",
    "    \n",
    "    while not terminal:    #the episode will run till terminal state\n",
    "        \n",
    "        # set_trace()\n",
    "        \n",
    "        # add_to_dict(curr_state)    \n",
    "        curr_action = epsilon_greedy(curr_state, episode)\n",
    "        next_state, reward, terminal = env.step(curr_state, curr_action)\n",
    "        \n",
    "        add_to_dict(next_state)\n",
    "        \n",
    "        # UPDATE RULE\n",
    "        if terminal:\n",
    "            Q_dict[Q_state(curr_state)][curr_action] += LR * (reward - Q_dict[Q_state(curr_state)][curr_action])\n",
    "        else:\n",
    "            max_next = max(Q_dict[Q_state(next_state)],key=Q_dict[Q_state(next_state)].get)   #this gets the action corresponding to max q-value of next state\n",
    "            Q_dict[Q_state(curr_state)][curr_action] += LR * ((reward + (GAMMA*(Q_dict[Q_state(next_state)][max_next]))) - Q_dict[Q_state(curr_state)][curr_action] ) \n",
    "            \n",
    "        curr_state = next_state       #state(t) became state(t-1)\n",
    "        total_reward += reward\n",
    "\n",
    "    accumulated_total_reward += total_reward\n",
    "    \n",
    "    #TRACKING REWARDS\n",
    "    episode_rewards_tracked[episode] = total_reward\n",
    "    \n",
    "    for track_state in rewards_tracked.keys():     #storing rewards\n",
    "        rewards_tracked[track_state].append(total_reward)\n",
    "\n",
    "    if ((episode+1) % threshold) == 0:   #every 2000th episode\n",
    "        save_obj(rewards_tracked,'Rewards')   \n",
    "        save_obj(episode_rewards_tracked,'Episodic_Rewards')\n",
    "    \n",
    "    #TRACKING Q-VALUES\n",
    "    if (episode == threshold-1):        #at the 1999th episode\n",
    "        initialise_tracking_states()\n",
    "      \n",
    "    if ((episode+1) % threshold) == 0:   #every 2000th episode\n",
    "        save_tracking_states()\n",
    "        save_obj(States_track,'States_tracked')   \n",
    "    \n",
    "    #SAVING POLICY\n",
    "    if ((episode+1)% policy_threshold ) == 0:  #every 30000th episodes, the Q-dict will be saved\n",
    "        save_obj(Q_dict,'Policy')    \n",
    "        \n",
    "    if ((episode+1) % 10000) == 0:   #every 10000th episode  \n",
    "        accumulated_rewards_tracked[episode+1] = accumulated_total_reward / (episode+1)\n",
    "        print(f'Episode: {episode+1}, Average Rewards: {accumulated_rewards_tracked[episode+1]}')        \n",
    "        \n",
    "    \n",
    "\n",
    "elapsed_time = time.time() - start_time\n",
    "save_obj(rewards_tracked,'Rewards')\n",
    "save_obj(episode_rewards_tracked,'Episodic_Rewards')\n",
    "save_obj(accumulated_rewards_tracked,'Average_Acculmulated_Rewards')\n",
    "save_obj(States_track,'States_tracked')   \n",
    "save_obj(Q_dict,'Policy')"
   ]
  },
  {
   "cell_type": "code",
   "execution_count": null,
   "metadata": {
    "colab": {},
    "colab_type": "code",
    "id": "8LfSgVuHGggu"
   },
   "outputs": [],
   "source": []
  },
  {
   "cell_type": "markdown",
   "metadata": {
    "colab_type": "text",
    "id": "t6eMFbb8Ggg2"
   },
   "source": [
    "#### Check the Q-dictionary"
   ]
  },
  {
   "cell_type": "code",
   "execution_count": 24,
   "metadata": {},
   "outputs": [],
   "source": [
    "def get_top_qvalues(Q_dict, thresh=0.5):\n",
    "    top_values = []\n",
    "    for state in Q_dict.keys():\n",
    "        for action, q_value in Q_dict[state].items():\n",
    "            if q_value > thresh:\n",
    "                top_values.append((state, action, q_value))\n",
    "    return top_values"
   ]
  },
  {
   "cell_type": "code",
   "execution_count": 25,
   "metadata": {
    "colab": {},
    "colab_type": "code",
    "id": "fr9d2fcVGgg4"
   },
   "outputs": [],
   "source": [
    "# Q_dict"
   ]
  },
  {
   "cell_type": "code",
   "execution_count": 26,
   "metadata": {},
   "outputs": [],
   "source": [
    "# max(Q_dict['x-x-x-x-x-x-x-x-x'],key=Q_dict['x-x-x-x-x-x-x-x-x'].get)"
   ]
  },
  {
   "cell_type": "code",
   "execution_count": 27,
   "metadata": {},
   "outputs": [],
   "source": [
    "# {k: v for k, v in sorted(Q_dict.items(), key=lambda item: item[1])}"
   ]
  },
  {
   "cell_type": "code",
   "execution_count": 28,
   "metadata": {
    "colab": {},
    "colab_type": "code",
    "id": "F1tnDJWkGgg9"
   },
   "outputs": [
    {
     "data": {
      "text/plain": [
       "1485426"
      ]
     },
     "execution_count": 28,
     "metadata": {},
     "output_type": "execute_result"
    }
   ],
   "source": [
    "len(Q_dict)"
   ]
  },
  {
   "cell_type": "code",
   "execution_count": 29,
   "metadata": {
    "colab": {},
    "colab_type": "code",
    "id": "cFgUqfcQGghB"
   },
   "outputs": [],
   "source": [
    "# try checking for one of the states - that which action your agent thinks is the best  -----This will not be evaluated"
   ]
  },
  {
   "cell_type": "code",
   "execution_count": 43,
   "metadata": {},
   "outputs": [
    {
     "data": {
      "text/plain": [
       "[('x-x-x-x-4-8-9-x-1', (3, 3), 9.01522909781639),\n",
       " ('x-x-4-9-x-x-5-2-x', (0, 1), 9.353891811077332),\n",
       " ('x-2-x-x-5-x-6-x-3', (0, 7), 9.476652366972639),\n",
       " ('x-x-x-x-9-2-8-x-5', (0, 1), 9.202335569231275),\n",
       " ('5-x-9-x-x-4-x-2-x', (1, 1), 9.01522909781639),\n",
       " ('x-x-x-x-3-8-6-x-7', (0, 5), 9.113706188034751),\n",
       " ('x-x-x-9-x-2-5-8-x', (0, 1), 9.113706188034751),\n",
       " ('x-x-x-x-5-x-8-2-1', (0, 9), 9.113706188034751),\n",
       " ('5-x-9-x-x-8-x-2-x', (1, 1), 9.01522909781639),\n",
       " ('x-4-x-1-8-x-5-x-x', (0, 9), 9.113706188034751),\n",
       " ('x-x-4-x-9-x-x-8-5', (0, 1), 9.528987130275375),\n",
       " ('x-x-x-9-8-x-5-2-x', (0, 1), 9.282102012308147),\n",
       " ('5-x-9-x-2-x-8-x-x', (1, 1), 9.282102012308147),\n",
       " ('x-4-x-5-3-x-2-x-x', (5, 7), 9.202335569231275),\n",
       " ('5-9-x-x-x-x-6-x-4', (2, 1), 9.353891811077332),\n",
       " ('9-5-x-6-x-x-2-x-x', (2, 1), 9.202335569231275),\n",
       " ('5-x-9-x-2-4-x-x-x', (1, 1), 9.202335569231275),\n",
       " ('x-4-2-x-9-x-x-x-1', (0, 5), 9.01522909781639),\n",
       " ('3-x-7-x-x-x-8-x-6', (7, 1), 9.418502629969598),\n",
       " ('x-8-6-x-5-x-x-x-3', (0, 1), 9.113706188034751),\n",
       " ('x-4-x-8-1-x-x-x-5', (0, 9), 9.202335569231275),\n",
       " ('5-x-4-x-x-2-3-x-x', (3, 7), 9.113706188034751),\n",
       " ('x-x-x-4-5-2-x-x-9', (0, 1), 9.282102012308147),\n",
       " ('x-x-x-9-2-x-5-8-x', (0, 1), 9.202335569231275),\n",
       " ('x-2-x-x-5-x-x-6-3', (0, 7), 9.353891811077332),\n",
       " ('x-x-x-9-x-x-5-2-4', (0, 1), 9.01522909781639),\n",
       " ('5-x-9-4-x-x-x-2-x', (1, 1), 9.01522909781639),\n",
       " ('9-5-x-x-x-x-2-4-x', (2, 1), 9.01522909781639),\n",
       " ('2-7-x-4-5-x-x-x-x', (6, 9), 9.01522909781639),\n",
       " ('5-7-x-8-x-6-x-x-x', (2, 3), 9.282102012308147),\n",
       " ('x-x-4-x-5-x-x-6-9', (0, 1), 9.01522909781639),\n",
       " ('x-x-4-9-2-x-5-x-x', (0, 1), 9.690968456173675),\n",
       " ('5-7-x-2-x-x-x-x-8', (2, 3), 9.113706188034751),\n",
       " ('x-x-x-2-9-x-5-4-x', (2, 1), 9.202335569231275),\n",
       " ('x-8-2-x-5-x-x-x-9', (0, 1), 9.01522909781639),\n",
       " ('5-x-9-x-2-x-x-x-4', (1, 1), 9.353891811077332),\n",
       " ('5-x-3-4-x-x-8-x-x', (1, 7), 9.113706188034751),\n",
       " ('6-7-4-x-3-x-x-x-x', (7, 5), 9.01522909781639),\n",
       " ('x-x-9-x-x-4-5-x-8', (4, 1), 9.01522909781639),\n",
       " ('2-x-x-x-5-8-x-9-x', (1, 1), 9.202335569231275),\n",
       " ('9-5-x-x-x-8-x-2-x', (2, 1), 9.01522909781639),\n",
       " ('x-x-x-9-4-x-5-2-x', (0, 1), 9.01522909781639),\n",
       " ('x-x-4-x-9-2-x-x-5', (0, 1), 9.01522909781639),\n",
       " ('5-9-x-6-x-x-x-x-4', (2, 1), 9.202335569231275)]"
      ]
     },
     "execution_count": 43,
     "metadata": {},
     "output_type": "execute_result"
    }
   ],
   "source": [
    "top_qvalues = get_top_qvalues(Q_dict, thresh=9)\n",
    "top_qvalues\n",
    "# [(s,a) for s,a,q in top_qvalues]"
   ]
  },
  {
   "cell_type": "markdown",
   "metadata": {
    "colab_type": "text",
    "id": "KGPZEQDFGghG"
   },
   "source": [
    "#### Check the states tracked for Q-values convergence\n",
    "(non-evaluative)"
   ]
  },
  {
   "cell_type": "code",
   "execution_count": 44,
   "metadata": {},
   "outputs": [],
   "source": [
    "# States_track"
   ]
  },
  {
   "cell_type": "code",
   "execution_count": 32,
   "metadata": {},
   "outputs": [],
   "source": [
    "# rewards_tracked"
   ]
  },
  {
   "cell_type": "code",
   "execution_count": 33,
   "metadata": {
    "colab": {},
    "colab_type": "code",
    "id": "9s1Tvz8HGghH"
   },
   "outputs": [],
   "source": [
    "# Write the code for plotting the graphs for state-action pairs tracked"
   ]
  },
  {
   "cell_type": "code",
   "execution_count": 34,
   "metadata": {
    "colab": {},
    "colab_type": "code",
    "id": "pVQInsg7GghL"
   },
   "outputs": [
    {
     "data": {
      "image/png": "[encoded data removed]",
      "text/plain": [
       "<Figure size 432x288 with 1 Axes>"
      ]
     },
     "metadata": {
      "needs_background": "light"
     },
     "output_type": "display_data"
    }
   ],
   "source": [
    "plot_values = States_track[states_tracked[0][0]][states_tracked[0][1]];\n",
    "plt.plot(np.arange(len(plot_values)), plot_values);"
   ]
  },
  {
   "cell_type": "code",
   "execution_count": 35,
   "metadata": {
    "colab": {},
    "colab_type": "code",
    "id": "pVQInsg7GghL"
   },
   "outputs": [
    {
     "data": {
      "image/png": "[encoded data removed]",
      "text/plain": [
       "<Figure size 432x288 with 1 Axes>"
      ]
     },
     "metadata": {
      "needs_background": "light"
     },
     "output_type": "display_data"
    }
   ],
   "source": [
    "plot_values = States_track[states_tracked[1][0]][states_tracked[1][1]];\n",
    "plt.plot(np.arange(len(plot_values)), plot_values);"
   ]
  },
  {
   "cell_type": "code",
   "execution_count": 36,
   "metadata": {
    "colab": {},
    "colab_type": "code",
    "id": "pVQInsg7GghL"
   },
   "outputs": [
    {
     "data": {
      "image/png": "[encoded data removed]",
      "text/plain": [
       "<Figure size 432x288 with 1 Axes>"
      ]
     },
     "metadata": {
      "needs_background": "light"
     },
     "output_type": "display_data"
    }
   ],
   "source": [
    "plot_values = States_track[states_tracked[2][0]][states_tracked[2][1]]\n",
    "plt.plot(np.arange(len(plot_values)), plot_values);"
   ]
  },
  {
   "cell_type": "code",
   "execution_count": 37,
   "metadata": {
    "colab": {},
    "colab_type": "code",
    "id": "pVQInsg7GghL"
   },
   "outputs": [
    {
     "data": {
      "image/png": "[encoded data removed]",
      "text/plain": [
       "<Figure size 432x288 with 1 Axes>"
      ]
     },
     "metadata": {
      "needs_background": "light"
     },
     "output_type": "display_data"
    }
   ],
   "source": [
    "plot_values = States_track[states_tracked[3][0]][states_tracked[3][1]]\n",
    "plt.plot(np.arange(len(plot_values)), plot_values);"
   ]
  },
  {
   "cell_type": "code",
   "execution_count": 38,
   "metadata": {},
   "outputs": [],
   "source": [
    "# plt.plot(episode_rewards_tracked.keys(), episode_rewards_tracked.values())"
   ]
  },
  {
   "cell_type": "code",
   "execution_count": 39,
   "metadata": {},
   "outputs": [
    {
     "data": {
      "image/png": "[encoded data removed]",
      "text/plain": [
       "<Figure size 432x288 with 1 Axes>"
      ]
     },
     "metadata": {
      "needs_background": "light"
     },
     "output_type": "display_data"
    }
   ],
   "source": [
    "plt.plot(accumulated_rewards_tracked.keys(), accumulated_rewards_tracked.values());\n",
    "plt.title('Avg Rewards over episodes');"
   ]
  },
  {
   "cell_type": "code",
   "execution_count": 40,
   "metadata": {},
   "outputs": [],
   "source": [
    "# episode_rewards_tracked"
   ]
  },
  {
   "cell_type": "markdown",
   "metadata": {
    "colab_type": "text",
    "id": "b2Opp8_NITkC"
   },
   "source": [
    "### Epsilon - decay check"
   ]
  },
  {
   "cell_type": "code",
   "execution_count": 41,
   "metadata": {
    "colab": {},
    "colab_type": "code",
    "id": "gQ_D_JsuGghR"
   },
   "outputs": [],
   "source": [
    "# max_epsilon = 1.0\n",
    "# min_epsilon = 0.001\n",
    "# time = np.arange(0,5000000)\n",
    "# epsilon = []\n",
    "# for i in range(0,5000000):\n",
    "#     epsilon.append(min_epsilon + (max_epsilon - min_epsilon) * np.exp(-0.000001*i))"
   ]
  },
  {
   "cell_type": "code",
   "execution_count": 42,
   "metadata": {
    "colab": {
     "base_uri": "https://localhost:8080/",
     "height": 347
    },
    "colab_type": "code",
    "id": "J7c2xADQGghV",
    "outputId": "cb60fce3-570b-45fb-bd83-abde3d13b273"
   },
   "outputs": [],
   "source": [
    "# plt.plot(time, epsilon)\n",
    "# plt.show()"
   ]
  },
  {
   "cell_type": "code",
   "execution_count": null,
   "metadata": {
    "colab": {},
    "colab_type": "code",
    "id": "59BRf43IJiQ1"
   },
   "outputs": [],
   "source": []
  }
 ],
 "metadata": {
  "colab": {
   "collapsed_sections": [],
   "name": "TicTacToe_Agent.ipynb",
   "provenance": [],
   "version": "0.3.2"
  },
  "kernelspec": {
   "display_name": "Python 3 (ipykernel)",
   "language": "python",
   "name": "python3"
  },
  "language_info": {
   "codemirror_mode": {
    "name": "ipython",
    "version": 3
   },
   "file_extension": ".py",
   "mimetype": "text/x-python",
   "name": "python",
   "nbconvert_exporter": "python",
   "pygments_lexer": "ipython3",
   "version": "3.8.10"
  }
 },
 "nbformat": 4,
 "nbformat_minor": 4
}
