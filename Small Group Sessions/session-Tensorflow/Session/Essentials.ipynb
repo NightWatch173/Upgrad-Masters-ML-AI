{
 "cells": [
  {
   "cell_type": "markdown",
   "metadata": {
    "id": "kqaMA85vFQ9D"
   },
   "source": [
    "# Neural Network Layers and Ops\n",
    "\n",
    "In this session we will focus on understanding various tensor operations, NN layers and loss functions"
   ]
  },
  {
   "cell_type": "markdown",
   "metadata": {
    "id": "JiN487VzFrue"
   },
   "source": [
    "# Import Dependencies"
   ]
  },
  {
   "cell_type": "code",
   "execution_count": null,
   "metadata": {
    "id": "fcd9jenuFuIo"
   },
   "outputs": [],
   "source": [
    "import matplotlib.pyplot as plt\n",
    "import pandas as pd\n",
    "import numpy as np\n",
    "import sklearn\n",
    "import tensorflow as tf"
   ]
  },
  {
   "cell_type": "code",
   "execution_count": null,
   "metadata": {
    "colab": {
     "base_uri": "https://localhost:8080/"
    },
    "id": "XSxoE154F25s",
    "outputId": "ebdcb505-9cca-4cde-c587-c0bd4c87ccf8"
   },
   "outputs": [],
   "source": [
    "print(tf.__version__)"
   ]
  },
  {
   "cell_type": "markdown",
   "metadata": {
    "id": "SEz5MykHF-vM"
   },
   "source": [
    "# 1. Tensors & Tensor Ops"
   ]
  },
  {
   "cell_type": "markdown",
   "metadata": {
    "id": "5IMLwmlMGU6T"
   },
   "source": [
    "## Constants"
   ]
  },
  {
   "cell_type": "code",
   "execution_count": null,
   "metadata": {
    "colab": {
     "base_uri": "https://localhost:8080/"
    },
    "id": "00g8pgcdGEr5",
    "outputId": "340be5aa-a854-4a56-ba66-a791d7f55cb8"
   },
   "outputs": [],
   "source": [
    "t = tf.constant([[1., 2., 3.], \n",
    "                 [4., 5., 6.]])\n",
    "t"
   ]
  },
  {
   "cell_type": "code",
   "execution_count": null,
   "metadata": {
    "colab": {
     "base_uri": "https://localhost:8080/"
    },
    "id": "siI6vU6cGK_o",
    "outputId": "7d07c4a5-bfa0-4d04-d469-42146178be4b"
   },
   "outputs": [],
   "source": [
    "t.dtype"
   ]
  },
  {
   "cell_type": "code",
   "execution_count": null,
   "metadata": {
    "colab": {
     "base_uri": "https://localhost:8080/"
    },
    "id": "WF2Ne61gG5KC",
    "outputId": "757e8334-6a41-419b-e135-2f5e305fb9f6"
   },
   "outputs": [],
   "source": [
    "t.shape"
   ]
  },
  {
   "cell_type": "markdown",
   "metadata": {
    "id": "xpoefe8vHD76"
   },
   "source": [
    "## Variables"
   ]
  },
  {
   "cell_type": "code",
   "execution_count": null,
   "metadata": {
    "colab": {
     "base_uri": "https://localhost:8080/"
    },
    "id": "lym63HTTHGqw",
    "outputId": "6f961a2f-f91a-460e-bea3-1217e1e26d99"
   },
   "outputs": [],
   "source": [
    "t = tf.Variable([[1., 2., 3.], [4., 5., 6.]])\n",
    "t"
   ]
  },
  {
   "cell_type": "code",
   "execution_count": null,
   "metadata": {
    "colab": {
     "base_uri": "https://localhost:8080/"
    },
    "id": "AErUzrRIHgQd",
    "outputId": "d22a2381-9c0b-4e9e-8a15-70a4133ab9dd"
   },
   "outputs": [],
   "source": [
    "t.dtype, t.shape"
   ]
  },
  {
   "cell_type": "code",
   "execution_count": null,
   "metadata": {
    "colab": {
     "base_uri": "https://localhost:8080/"
    },
    "id": "xSs7VWJaHj_M",
    "outputId": "4416300a-8cdf-4cf7-d05a-149fad03a121"
   },
   "outputs": [],
   "source": [
    "t.numpy()"
   ]
  },
  {
   "cell_type": "code",
   "execution_count": null,
   "metadata": {
    "colab": {
     "base_uri": "https://localhost:8080/"
    },
    "id": "Xe-0k59nHnK2",
    "outputId": "8d407fa0-475d-48cb-b7b7-200885dd7a88"
   },
   "outputs": [],
   "source": [
    "t[0,0].assign(99)\n",
    "t"
   ]
  },
  {
   "cell_type": "code",
   "execution_count": null,
   "metadata": {
    "colab": {
     "base_uri": "https://localhost:8080/"
    },
    "id": "1WeX9brAHtEc",
    "outputId": "c54d36fd-5b54-48e3-88c6-90e7e303f40f"
   },
   "outputs": [],
   "source": [
    "t[1].assign([10, 20, 30])\n",
    "t"
   ]
  },
  {
   "cell_type": "code",
   "execution_count": null,
   "metadata": {
    "colab": {
     "base_uri": "https://localhost:8080/"
    },
    "id": "8Rw18RXpH8iY",
    "outputId": "714eb14f-5f0c-4171-f73b-7da3c5121ab0"
   },
   "outputs": [],
   "source": [
    "# tf.scatter_nd takes an indices tensor, an updates (original tensor).\n",
    "t.scatter_nd_update(indices=[[0, 0], [1, 1]],\n",
    "                    updates=[33., 44.])"
   ]
  },
  {
   "cell_type": "markdown",
   "metadata": {
    "id": "Jy6hyYXWJWbs"
   },
   "source": [
    "## Indexing"
   ]
  },
  {
   "cell_type": "code",
   "execution_count": null,
   "metadata": {
    "colab": {
     "base_uri": "https://localhost:8080/"
    },
    "id": "qr4UZheNJo4Z",
    "outputId": "75300d48-b6fe-4ba2-e46f-802e18f4c27d"
   },
   "outputs": [],
   "source": [
    "t[1:, :]"
   ]
  },
  {
   "cell_type": "code",
   "execution_count": null,
   "metadata": {
    "colab": {
     "base_uri": "https://localhost:8080/"
    },
    "id": "U0qlIxzGI6iv",
    "outputId": "d480704d-dd18-4eb5-a979-0a7238d2f8a3"
   },
   "outputs": [],
   "source": [
    "t[:, 1:]"
   ]
  },
  {
   "cell_type": "code",
   "execution_count": null,
   "metadata": {},
   "outputs": [],
   "source": [
    "t"
   ]
  },
  {
   "cell_type": "markdown",
   "metadata": {
    "id": "s2xWdHmOKM01"
   },
   "source": [
    "## Basic Ops"
   ]
  },
  {
   "cell_type": "code",
   "execution_count": null,
   "metadata": {
    "colab": {
     "base_uri": "https://localhost:8080/"
    },
    "id": "HYnK3pr-KOUK",
    "outputId": "6b7afce2-1137-4f1d-9884-3378bf1f9f38"
   },
   "outputs": [],
   "source": [
    "t = t + 10\n",
    "t"
   ]
  },
  {
   "cell_type": "code",
   "execution_count": null,
   "metadata": {
    "colab": {
     "base_uri": "https://localhost:8080/"
    },
    "id": "lT423HOYKPvC",
    "outputId": "53666247-5385-4a1c-ce93-70bd9e24c921"
   },
   "outputs": [],
   "source": [
    "t = t + tf.Variable([[1, 2, 3]], dtype='float32')\n",
    "t"
   ]
  },
  {
   "cell_type": "code",
   "execution_count": null,
   "metadata": {
    "colab": {
     "base_uri": "https://localhost:8080/"
    },
    "id": "ojyw5MvKKbSE",
    "outputId": "db64a35a-d313-42f5-e893-2bf324157fd2"
   },
   "outputs": [],
   "source": [
    "tf.square(t)"
   ]
  },
  {
   "cell_type": "code",
   "execution_count": null,
   "metadata": {
    "colab": {
     "base_uri": "https://localhost:8080/"
    },
    "id": "3RSMi7p6K1Db",
    "outputId": "40a47ec8-b4c4-4e30-8c35-bc92c19492ea"
   },
   "outputs": [],
   "source": [
    "np.square(t)"
   ]
  },
  {
   "cell_type": "markdown",
   "metadata": {
    "id": "OY9wjqanMD0X"
   },
   "source": [
    "## Sparse Tensors"
   ]
  },
  {
   "cell_type": "code",
   "execution_count": null,
   "metadata": {
    "colab": {
     "base_uri": "https://localhost:8080/"
    },
    "id": "QcC7On8zMe1j",
    "outputId": "35905de0-32b2-4dd5-abc9-21f1287aae88"
   },
   "outputs": [],
   "source": [
    "t = tf.SparseTensor(indices=[[0, 0], [1, 1], [2, 2]],\n",
    "                    values=[1., 2., 3.],\n",
    "                    dense_shape=[3, 3])\n",
    "t"
   ]
  },
  {
   "cell_type": "code",
   "execution_count": null,
   "metadata": {
    "colab": {
     "base_uri": "https://localhost:8080/"
    },
    "id": "qTC-1FzpMqLU",
    "outputId": "11ae26a5-b78a-489c-8d92-a71b8559700e"
   },
   "outputs": [],
   "source": [
    "tf.sparse.to_dense(t)"
   ]
  },
  {
   "cell_type": "code",
   "execution_count": null,
   "metadata": {
    "colab": {
     "base_uri": "https://localhost:8080/"
    },
    "id": "711otJT7Mszc",
    "outputId": "610e4861-31ab-4109-d6a7-27f37b73cc35"
   },
   "outputs": [],
   "source": [
    "t2 = t * 5\n",
    "tf.sparse.to_dense(t2)"
   ]
  },
  {
   "cell_type": "markdown",
   "metadata": {
    "id": "2iD9cjbnNdVw"
   },
   "source": [
    "# 2. Basic Regression with Simple NN + Custom Loss Function"
   ]
  },
  {
   "cell_type": "code",
   "execution_count": null,
   "metadata": {
    "colab": {
     "base_uri": "https://localhost:8080/"
    },
    "id": "BpCgoQ5sOHrE",
    "outputId": "169fa059-9065-4efd-b847-ab9aad132734"
   },
   "outputs": [],
   "source": [
    "from sklearn.datasets import fetch_california_housing\n",
    "from sklearn.model_selection import train_test_split\n",
    "from sklearn.preprocessing import StandardScaler\n",
    "\n",
    "housing = fetch_california_housing()\n",
    "\n",
    "housing"
   ]
  },
  {
   "cell_type": "code",
   "execution_count": null,
   "metadata": {
    "colab": {
     "base_uri": "https://localhost:8080/"
    },
    "id": "MopR_4g2OT8H",
    "outputId": "7f01e74b-d29f-4863-da8c-17e7fba6d430"
   },
   "outputs": [],
   "source": [
    "print(housing['DESCR'])"
   ]
  },
  {
   "cell_type": "code",
   "execution_count": null,
   "metadata": {
    "colab": {
     "base_uri": "https://localhost:8080/",
     "height": 202
    },
    "id": "IY3FOBA3ObXZ",
    "outputId": "95665d8d-eb11-4f9e-dc66-95410bc538fd"
   },
   "outputs": [],
   "source": [
    "X = pd.DataFrame(housing['data'], columns=housing['feature_names'])\n",
    "X.head()"
   ]
  },
  {
   "cell_type": "code",
   "execution_count": null,
   "metadata": {
    "colab": {
     "base_uri": "https://localhost:8080/",
     "height": 202
    },
    "id": "TIFsG3kwOmOm",
    "outputId": "038b5e09-16fe-4954-9ab3-7af456a35284"
   },
   "outputs": [],
   "source": [
    "y = pd.DataFrame({'price': housing['target']})\n",
    "y.head()"
   ]
  },
  {
   "cell_type": "code",
   "execution_count": null,
   "metadata": {
    "colab": {
     "base_uri": "https://localhost:8080/"
    },
    "id": "S3T9NU_dOyVa",
    "outputId": "adadce3f-de65-4371-a115-34cff458633a"
   },
   "outputs": [],
   "source": [
    "X_train, X_test, y_train, y_test = train_test_split(X, y, test_size=0.3, random_state=42)\n",
    "X_train.shape, X_test.shape"
   ]
  },
  {
   "cell_type": "code",
   "execution_count": null,
   "metadata": {
    "id": "OUkulk-APF2O"
   },
   "outputs": [],
   "source": [
    "scaler = StandardScaler()\n",
    "X_train_scaled = scaler.fit_transform(X_train)\n",
    "X_test_scaled = scaler.transform(X_test)"
   ]
  },
  {
   "cell_type": "code",
   "execution_count": null,
   "metadata": {
    "colab": {
     "base_uri": "https://localhost:8080/"
    },
    "id": "Xht6pIuzPPFe",
    "outputId": "ae8e6a44-119b-4ead-dfd6-b4eaa8bf9c3f"
   },
   "outputs": [],
   "source": [
    "from sklearn.linear_model import LinearRegression\n",
    "from sklearn.metrics import r2_score, mean_squared_error\n",
    "\n",
    "lr = LinearRegression()\n",
    "lr.fit(X_train_scaled, y_train)"
   ]
  },
  {
   "cell_type": "code",
   "execution_count": null,
   "metadata": {
    "colab": {
     "base_uri": "https://localhost:8080/"
    },
    "id": "EAdcOhJzQjXW",
    "outputId": "040c1008-39a7-48e2-c31d-e35eaf10a48e"
   },
   "outputs": [],
   "source": [
    "predictions = lr.predict(X_test_scaled)\n",
    "print('R2:', r2_score(y_test, predictions))\n",
    "print('MSE:', mean_squared_error(y_test, predictions))"
   ]
  },
  {
   "cell_type": "markdown",
   "metadata": {
    "id": "3kXNdLtIQzXM"
   },
   "source": [
    "## 2.1: Creating a custom loss function\n",
    "\n",
    "Create a `mse_loss(...)` function with two arguments: \n",
    "- the true labels `y_true` \n",
    "- the model predictions `y_pred` \n",
    "\n",
    "Make it return the mean squared error using TensorFlow operations. Note that you could write your own custom metrics in this way. \n",
    "\n",
    "__Tip:__ Recall that the MSE is the mean of the squares of prediction errors, which are the differences between the predictions and the labels, so you will need to use `tf.reduce_mean()` and `tf.square()` ops."
   ]
  },
  {
   "cell_type": "code",
   "execution_count": null,
   "metadata": {
    "id": "fS65zON8Rh4X"
   },
   "outputs": [],
   "source": [
    "def mse_loss(y_true, y_pred):\n",
    "    return tf.reduce_mean(tf.square(y_pred - y_true))"
   ]
  },
  {
   "cell_type": "markdown",
   "metadata": {
    "id": "4hGWe6G6Ropr"
   },
   "source": [
    "## 2.2: Create a simple 1-layer NN\n",
    "\n",
    "Here we leverage the `Sequential` API of `tf.keras` to create a simple NN with 1 hidden layer"
   ]
  },
  {
   "cell_type": "code",
   "execution_count": null,
   "metadata": {
    "id": "uAcYQPiySAda"
   },
   "outputs": [],
   "source": [
    "model = tf.keras.models.Sequential([\n",
    "    tf.keras.layers.Dense(16, activation=\"relu\", \n",
    "                          input_shape=(X_train.shape[1],)),\n",
    "    tf.keras.layers.Dense(1),\n",
    "])"
   ]
  },
  {
   "cell_type": "code",
   "execution_count": null,
   "metadata": {},
   "outputs": [],
   "source": [
    "X_train.shape[1]"
   ]
  },
  {
   "cell_type": "code",
   "execution_count": null,
   "metadata": {
    "id": "6MUJ3YqTSoeU"
   },
   "outputs": [],
   "source": [
    "model.compile(loss=mse_loss, \n",
    "              optimizer=tf.keras.optimizers.SGD(lr=1e-3),\n",
    "              metrics=['mean_squared_error'])"
   ]
  },
  {
   "cell_type": "code",
   "execution_count": null,
   "metadata": {
    "colab": {
     "base_uri": "https://localhost:8080/"
    },
    "id": "1A5kxuhoSyNS",
    "outputId": "36046b90-f167-453e-c57c-f28e988a16a6"
   },
   "outputs": [],
   "source": [
    "model.summary()"
   ]
  },
  {
   "cell_type": "markdown",
   "metadata": {
    "id": "FdWNezYlSzSn"
   },
   "source": [
    "## 2.3: Train the model and Test its performance\n",
    "\n",
    "We will now train our simple NN and test its performance"
   ]
  },
  {
   "cell_type": "markdown",
   "metadata": {
    "id": "TpQZbDQKGuKF"
   },
   "source": [
    "3200 houses\n",
    "32\n",
    "\n",
    "every batch of data passed to the NN will have 32 houses\n",
    "\n",
    "1 epoch = 3200 // 32 = 100\n",
    "\n",
    "loss is computed after each batch of 32 houses and error\\loss is backpropagated based on gradients in each layer"
   ]
  },
  {
   "cell_type": "code",
   "execution_count": null,
   "metadata": {
    "colab": {
     "base_uri": "https://localhost:8080/"
    },
    "id": "gvuo490CTGuY",
    "outputId": "eeeea379-7e1f-4c67-8a55-f206af57cf84"
   },
   "outputs": [],
   "source": [
    "model.fit(X_train_scaled, y_train, \n",
    "          epochs=30,\n",
    "          batch_size=32,\n",
    "          validation_split=0.1)"
   ]
  },
  {
   "cell_type": "code",
   "execution_count": null,
   "metadata": {
    "id": "OTPwbW1YTRC9"
   },
   "outputs": [],
   "source": [
    "predictions = model.predict(X_test_scaled)"
   ]
  },
  {
   "cell_type": "code",
   "execution_count": null,
   "metadata": {
    "colab": {
     "base_uri": "https://localhost:8080/"
    },
    "id": "46I3RukVTcIp",
    "outputId": "4d5954d6-d0a5-4df7-a781-13d7a59befa0"
   },
   "outputs": [],
   "source": [
    "print('R2:', r2_score(y_test, predictions))\n",
    "print('MSE:', mean_squared_error(y_test, predictions))"
   ]
  },
  {
   "cell_type": "code",
   "execution_count": null,
   "metadata": {
    "id": "rLA5GxjATeen"
   },
   "outputs": [],
   "source": [
    "model = tf.keras.models.Sequential([\n",
    "    tf.keras.layers.Dense(16, activation=\"relu\", \n",
    "                          input_shape=(X_train.shape[1],)),\n",
    "    tf.keras.layers.Dense(32, activation=\"relu\"),\n",
    "    tf.keras.layers.Dense(32, activation=\"relu\"),\n",
    "    tf.keras.layers.Dense(1),\n",
    "])"
   ]
  },
  {
   "cell_type": "code",
   "execution_count": null,
   "metadata": {
    "id": "N6MFhm3IT6IW"
   },
   "outputs": [],
   "source": [
    "model.compile(loss=mse_loss, \n",
    "              optimizer=tf.keras.optimizers.SGD(lr=1e-3),\n",
    "              metrics=['mean_squared_error'])"
   ]
  },
  {
   "cell_type": "code",
   "execution_count": null,
   "metadata": {
    "colab": {
     "base_uri": "https://localhost:8080/"
    },
    "id": "TYrNOeLWT91V",
    "outputId": "5d8e9647-e780-4bf9-a67b-d7d6d6eacbe5"
   },
   "outputs": [],
   "source": [
    "model.summary()"
   ]
  },
  {
   "cell_type": "code",
   "execution_count": null,
   "metadata": {
    "colab": {
     "base_uri": "https://localhost:8080/"
    },
    "id": "tX1Hjj7DUAWx",
    "outputId": "10f20612-d0a2-4ac3-a67e-add7a3b79af4"
   },
   "outputs": [],
   "source": [
    "model.fit(X_train_scaled, y_train, \n",
    "          epochs=30,\n",
    "          batch_size=32,\n",
    "          validation_split=0.1) "
   ]
  },
  {
   "cell_type": "code",
   "execution_count": null,
   "metadata": {
    "id": "pdtdmbGSUDDc"
   },
   "outputs": [],
   "source": [
    "predictions = model.predict(X_test_scaled)"
   ]
  },
  {
   "cell_type": "code",
   "execution_count": null,
   "metadata": {
    "colab": {
     "base_uri": "https://localhost:8080/"
    },
    "id": "Hp1AA1T5UFBn",
    "outputId": "f591aa8d-4960-4574-a1f2-bca4917e6819"
   },
   "outputs": [],
   "source": [
    "print('R2:', r2_score(y_test, predictions))\n",
    "print('MSE:', mean_squared_error(y_test, predictions))"
   ]
  },
  {
   "cell_type": "code",
   "execution_count": null,
   "metadata": {
    "colab": {
     "base_uri": "https://localhost:8080/",
     "height": 391
    },
    "id": "9E9Z47YFUImv",
    "outputId": "ab38aae1-78b7-4e1b-f288-f70196ef9571"
   },
   "outputs": [],
   "source": [
    "z = np.linspace(-5, 5, 200)\n",
    "plt.figure(figsize=(15,6))\n",
    "plt.plot(z, np.sign(z), \"r-\", linewidth=1, label=\"Step\")\n",
    "plt.plot(z, tf.nn.sigmoid(z), \"g--\", linewidth=2, label=\"Sigmoid\")\n",
    "plt.plot(z, tf.nn.tanh(z), \"b-\", linewidth=2, label=\"Tanh\")\n",
    "plt.plot(z, tf.nn.relu(z), \"m-.\", linewidth=2, label=\"ReLU\")\n",
    "plt.grid(True)\n",
    "plt.legend(loc=\"upper left\", fontsize=14)\n",
    "plt.title(\"Activation functions\", fontsize=14)\n",
    "plt.axis([-5, 5, -1.2, 2]);"
   ]
  },
  {
   "cell_type": "code",
   "execution_count": null,
   "metadata": {},
   "outputs": [],
   "source": []
  },
  {
   "cell_type": "code",
   "execution_count": null,
   "metadata": {},
   "outputs": [],
   "source": []
  }
 ],
 "metadata": {
  "accelerator": "GPU",
  "colab": {
   "collapsed_sections": [],
   "machine_shape": "hm",
   "name": "NN Essentials - Layers, Ops, Gradient Descent.ipynb",
   "provenance": []
  },
  "kernelspec": {
   "display_name": "Python 3",
   "language": "python",
   "name": "python3"
  },
  "language_info": {
   "codemirror_mode": {
    "name": "ipython",
    "version": 3
   },
   "file_extension": ".py",
   "mimetype": "text/x-python",
   "name": "python",
   "nbconvert_exporter": "python",
   "pygments_lexer": "ipython3",
   "version": "3.8.8"
  }
 },
 "nbformat": 4,
 "nbformat_minor": 1
}
