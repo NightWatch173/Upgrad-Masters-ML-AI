{
 "cells": [
  {
   "cell_type": "code",
   "execution_count": null,
   "metadata": {
    "colab": {},
    "colab_type": "code",
    "id": "TWnyFNSCD_6C"
   },
   "outputs": [],
   "source": [
    "import pandas as pd\n",
    "import numpy as np\n",
    "import matplotlib.pyplot as plt"
   ]
  },
  {
   "cell_type": "code",
   "execution_count": null,
   "metadata": {
    "colab": {},
    "colab_type": "code",
    "id": "LM50eBzoE_D6"
   },
   "outputs": [],
   "source": [
    "from tensorflow.keras.models import Sequential\n",
    "from tensorflow.keras.layers import Dense\n",
    "from tensorflow.keras.layers import Dropout\n",
    "from tensorflow.keras.layers import LSTM\n",
    "from tensorflow.keras.layers import Bidirectional\n",
    "from tensorflow.keras.layers import Embedding"
   ]
  },
  {
   "cell_type": "code",
   "execution_count": null,
   "metadata": {
    "colab": {},
    "colab_type": "code",
    "id": "AJZhaCDYFcRD"
   },
   "outputs": [],
   "source": [
    "from tensorflow.keras.preprocessing.text import Tokenizer\n",
    "from tensorflow.keras.preprocessing.sequence import pad_sequences\n",
    "import tensorflow.keras.utils as ku"
   ]
  },
  {
   "cell_type": "code",
   "execution_count": null,
   "metadata": {
    "colab": {
     "base_uri": "https://localhost:8080/",
     "height": 209
    },
    "colab_type": "code",
    "id": "-hfNw7FeFqxa",
    "outputId": "521ab6ca-f429-4c21-a1c9-38c0d88e4cb0"
   },
   "outputs": [],
   "source": [
    "# using an api to get the data\n",
    "!wget --no-check-certificate \\\n",
    "    https://storage.googleapis.com/laurencemoroney-blog.appspot.com/sonnets.txt \\\n",
    "    -O /tmp/sonnets.txt\n",
    "text = open('/tmp/sonnets.txt').read().splitlines()"
   ]
  },
  {
   "cell_type": "markdown",
   "metadata": {
    "colab_type": "text",
    "id": "OjEiNekZG3pM"
   },
   "source": [
    "### Tokenizing Text Data"
   ]
  },
  {
   "cell_type": "code",
   "execution_count": null,
   "metadata": {
    "colab": {},
    "colab_type": "code",
    "id": "e-ETt4DjG8rS"
   },
   "outputs": [],
   "source": [
    "tokenizer=Tokenizer()"
   ]
  },
  {
   "cell_type": "code",
   "execution_count": null,
   "metadata": {
    "colab": {},
    "colab_type": "code",
    "id": "HOU24R7cHCzl"
   },
   "outputs": [],
   "source": [
    "tokenizer.fit_on_texts(text)"
   ]
  },
  {
   "cell_type": "code",
   "execution_count": null,
   "metadata": {
    "colab": {
     "base_uri": "https://localhost:8080/",
     "height": 34
    },
    "colab_type": "code",
    "id": "jMra7QPGHGvT",
    "outputId": "2eeac613-386a-4811-c694-8d06b7a59e66"
   },
   "outputs": [],
   "source": [
    "vocab_size=len(tokenizer.word_index)+1\n",
    "vocab_size"
   ]
  },
  {
   "cell_type": "markdown",
   "metadata": {
    "colab_type": "text",
    "id": "qQ-5_c6sHqcu"
   },
   "source": [
    "### Creating Sequence and Padding Text \n"
   ]
  },
  {
   "cell_type": "code",
   "execution_count": null,
   "metadata": {
    "colab": {},
    "colab_type": "code",
    "id": "pOTtYE84HpbU"
   },
   "outputs": [],
   "source": [
    "input_sequence=[]\n",
    "for i in text:\n",
    "    sequence=tokenizer.texts_to_sequences([i])[0]\n",
    "    for j in range(1,len(sequence)):\n",
    "        ngrams=sequence[:j+1]\n",
    "        input_sequence.append(ngrams)"
   ]
  },
  {
   "cell_type": "code",
   "execution_count": null,
   "metadata": {
    "colab": {
     "base_uri": "https://localhost:8080/",
     "height": 34
    },
    "colab_type": "code",
    "id": "AdG07PngHp9B",
    "outputId": "7f24bb0d-ea32-4859-87b2-062e3ca3e1d4"
   },
   "outputs": [],
   "source": [
    "max_len=0\n",
    "for i in input_sequence:\n",
    "    x=len(i)\n",
    "    if x>max_len:\n",
    "        max_len=x\n",
    "max_len"
   ]
  },
  {
   "cell_type": "code",
   "execution_count": null,
   "metadata": {
    "colab": {
     "base_uri": "https://localhost:8080/",
     "height": 139
    },
    "colab_type": "code",
    "id": "65ySNbiwJhGL",
    "outputId": "130992b6-f6c6-4185-f2d9-1ed5d5cc0f8f"
   },
   "outputs": [],
   "source": [
    "input_sequence=pad_sequences(input_sequence,maxlen=max_len)\n",
    "input_sequence"
   ]
  },
  {
   "cell_type": "markdown",
   "metadata": {
    "colab_type": "text",
    "id": "ZHyVw_8TKLGJ"
   },
   "source": [
    "### Creating Predictors and Labels"
   ]
  },
  {
   "cell_type": "code",
   "execution_count": null,
   "metadata": {
    "colab": {
     "base_uri": "https://localhost:8080/",
     "height": 139
    },
    "colab_type": "code",
    "id": "DGzU2HSzJvr4",
    "outputId": "5260c8c1-0d2f-45e3-9e44-456d95b16f92"
   },
   "outputs": [],
   "source": [
    "predictors=input_sequence[:,:-1]\n",
    "predictors"
   ]
  },
  {
   "cell_type": "code",
   "execution_count": null,
   "metadata": {
    "colab": {
     "base_uri": "https://localhost:8080/",
     "height": 34
    },
    "colab_type": "code",
    "id": "BqjyywySJ9q7",
    "outputId": "c252ecdf-1921-4175-806e-5d794e12bb60"
   },
   "outputs": [],
   "source": [
    "labels=input_sequence[:,-1]\n",
    "labels"
   ]
  },
  {
   "cell_type": "markdown",
   "metadata": {
    "colab_type": "text",
    "id": "Od_CpIDTKXax"
   },
   "source": [
    "### Creating Encoding for Classes\n"
   ]
  },
  {
   "cell_type": "code",
   "execution_count": null,
   "metadata": {
    "colab": {},
    "colab_type": "code",
    "id": "2PR0uPyvKcqK"
   },
   "outputs": [],
   "source": [
    "labels=ku.to_categorical(labels,num_classes=vocab_size)"
   ]
  },
  {
   "cell_type": "code",
   "execution_count": null,
   "metadata": {
    "colab": {
     "base_uri": "https://localhost:8080/",
     "height": 139
    },
    "colab_type": "code",
    "id": "bRA5Z5ZpK4qm",
    "outputId": "0ea43fa1-0c10-4118-be1f-59b6327d649a"
   },
   "outputs": [],
   "source": [
    "labels"
   ]
  },
  {
   "cell_type": "markdown",
   "metadata": {
    "colab_type": "text",
    "id": "VUDlzLm_K_03"
   },
   "source": [
    "### Building Models"
   ]
  },
  {
   "cell_type": "markdown",
   "metadata": {
    "colab_type": "text",
    "id": "pdNMYptcLD9m"
   },
   "source": [
    "#### Multilayer Bidirectional LSTM"
   ]
  },
  {
   "cell_type": "code",
   "execution_count": null,
   "metadata": {
    "colab": {},
    "colab_type": "code",
    "id": "AmDNDwMjK9UB"
   },
   "outputs": [],
   "source": [
    "model=Sequential()"
   ]
  },
  {
   "cell_type": "code",
   "execution_count": null,
   "metadata": {
    "colab": {},
    "colab_type": "code",
    "id": "DWuhD4T0Nitq"
   },
   "outputs": [],
   "source": [
    "model.add(Embedding(vocab_size,100,input_length=max_len-1))\n",
    "model.add(Dropout(0.2))\n",
    "model.add(Bidirectional(LSTM(128,return_sequences=True)))\n",
    "model.add(Dropout(0.2))\n",
    "model.add(Bidirectional(LSTM(128)))\n",
    "model.add(Dense(vocab_size,activation='softmax'))"
   ]
  },
  {
   "cell_type": "code",
   "execution_count": null,
   "metadata": {
    "colab": {
     "base_uri": "https://localhost:8080/",
     "height": 367
    },
    "colab_type": "code",
    "id": "s8fb5-brNxDE",
    "outputId": "009d3960-584c-427e-ef2d-de8e02f59e78"
   },
   "outputs": [],
   "source": [
    "model.summary()"
   ]
  },
  {
   "cell_type": "code",
   "execution_count": null,
   "metadata": {
    "colab": {},
    "colab_type": "code",
    "id": "Y9BMB3jjOOnl"
   },
   "outputs": [],
   "source": [
    "model.compile(optimizer='adam',loss='categorical_crossentropy',metrics=['accuracy'])"
   ]
  },
  {
   "cell_type": "code",
   "execution_count": null,
   "metadata": {
    "colab": {
     "base_uri": "https://localhost:8080/",
     "height": 1000
    },
    "colab_type": "code",
    "id": "CHh2Z-rtOdbZ",
    "outputId": "89a617ea-dcc5-48be-cf74-b1a17531784e"
   },
   "outputs": [],
   "source": [
    "history=model.fit(predictors,labels,epochs=50)"
   ]
  },
  {
   "cell_type": "code",
   "execution_count": null,
   "metadata": {
    "colab": {
     "base_uri": "https://localhost:8080/",
     "height": 265
    },
    "colab_type": "code",
    "id": "6iV-xk79OoKT",
    "outputId": "d717e799-483e-4320-a463-29477d3f1134"
   },
   "outputs": [],
   "source": [
    "plt.plot(history.history['accuracy'],label='accuracy')\n",
    "plt.legend()\n",
    "plt.show()"
   ]
  },
  {
   "cell_type": "markdown",
   "metadata": {
    "colab_type": "text",
    "id": "lIIWcZJAdD9p"
   },
   "source": [
    "#### Model has a accuracy >60 %"
   ]
  },
  {
   "cell_type": "markdown",
   "metadata": {
    "colab_type": "text",
    "id": "bcApTlS1dEJ7"
   },
   "source": [
    "### Predicting new poem"
   ]
  },
  {
   "cell_type": "code",
   "execution_count": null,
   "metadata": {
    "colab": {},
    "colab_type": "code",
    "id": "ELcihdi3dFF7"
   },
   "outputs": [],
   "source": [
    "new_text=\"Help me Obi Wan Kenobi, you're my only hope\"\n",
    "next_words = 100"
   ]
  },
  {
   "cell_type": "code",
   "execution_count": null,
   "metadata": {
    "colab": {
     "base_uri": "https://localhost:8080/",
     "height": 54
    },
    "colab_type": "code",
    "id": "qTLLDxTwdFIr",
    "outputId": "3f94c92b-e0bb-4e60-9d6d-4d5f4a0b4701"
   },
   "outputs": [],
   "source": [
    "for i in range(next_words):\n",
    "    tokens=tokenizer.texts_to_sequences([new_text])\n",
    "    padded_sequence=pad_sequences(tokens,maxlen=max_len-1)\n",
    "    prediction=model.predict_classes(padded_sequence)\n",
    "    \n",
    "    for word,index in tokenizer.word_index.items():\n",
    "        if index == prediction:\n",
    "            output_word = word\n",
    "            break\n",
    "    new_text = new_text+' ' + output_word"
   ]
  },
  {
   "cell_type": "code",
   "execution_count": null,
   "metadata": {},
   "outputs": [],
   "source": [
    "print(new_text)"
   ]
  }
 ],
 "metadata": {
  "accelerator": "GPU",
  "colab": {
   "collapsed_sections": [],
   "name": "Auto_Poem_Generation.ipynb",
   "provenance": []
  },
  "kernelspec": {
   "display_name": "Python 3 (ipykernel)",
   "language": "python",
   "name": "python3"
  },
  "language_info": {
   "codemirror_mode": {
    "name": "ipython",
    "version": 3
   },
   "file_extension": ".py",
   "mimetype": "text/x-python",
   "name": "python",
   "nbconvert_exporter": "python",
   "pygments_lexer": "ipython3",
   "version": "3.8.10"
  }
 },
 "nbformat": 4,
 "nbformat_minor": 4
}
